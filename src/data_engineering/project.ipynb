{
 "cells": [
  {
   "cell_type": "markdown",
   "metadata": {},
   "source": [
    "Սյունակները՝\n",
    "year - հրդեհի պատահելու տարի\n",
    "state ֊ Բրազիլիայի նահանգ\n",
    "month ֊ հրդեհի պատահելու ամիս\n",
    "number ֊ հրդեհի անձանագրումների քանակ\n",
    "date ֊ հրդեհի արձանագրման ժամանակ\n",
    "\n",
    "CSV ֆայլը ուսումնասիրելով(amazon.csv), կնկատեք, որ որոշ թվեր կոտորակային են, օրինակ 2.588 հատ հրդեհ իմաստ չունեցող տվյալ է։ Սա ուղղակի հազարները ցույց տալու համար է, տեխնիկական վրիպակի պատճառով դարձել է կոտորակ, այսինքն 2.588 նշանակում է 2588 անտառային հրդեհ. Սա հեշտ կֆիքսեք ֆայլը կարդալուց։\n",
    "Ամիսները նշված են պորտուգալերեն\n",
    "\n",
    "\n",
    "Պրոյեկտի համար մեզ անհրաժեշտ է հետևյալ գրադարանները՝\n",
    "Pandas\n",
    "Matplotlib\n",
    "googletrans(ամիսները թարգմանելու համար)\n",
    "\n",
    "\n",
    "Խնդիրը՝\n",
    "Կարդալ ֆայլը և վերածել դատաֆրեյմի, հաշվի առնելով վերևի նշվածները\n",
    "Բաժանեք դատան փոքր մասերի՝\n",
    "* Առաջին բանը, որ կարելի է անել, վիզուալիզացնել հրդեհների քանակը ըստ տարիների, ամիսների\n",
    "\n",
    "\n",
    "Հեռացրեք այն տողերը, որտեղ հրդեհների քանակը 0 է։ Նախ 0֊ները սարքեք Nan, հետո հեռացրեք\n",
    "Խմբավորեք տվյալները ըստ ամիսների։ Արդյունքը լինելու է Series , ընդ որում ամիսները այբբենական կարգով։ Փոխեք, ամիսները ըստ ճիշտ հերթականության reindex֊ի միջոցով։\n",
    "Googletrans գրադարանի միջոցով թարգմանել ամիսները\n",
    "Վիզուալիզացրեք ստացված տվյալները՝ ներկայացնելով կապը ամիսների և այդ ամիսների ընթացքում եղած հրդեհների քանակի հետ\n"
   ]
  },
  {
   "cell_type": "markdown",
   "metadata": {},
   "source": [
    "Ներբեռնել եմ անհրաժեշտ գրադարանները"
   ]
  },
  {
   "cell_type": "code",
   "execution_count": 7,
   "metadata": {
    "scrolled": false
   },
   "outputs": [],
   "source": [
    "import numpy as np\n",
    "import pandas as pd\n",
    "import matplotlib.pyplot as plt\n",
    "import googletrans\n",
    "from googletrans import Translator"
   ]
  },
  {
   "cell_type": "markdown",
   "metadata": {},
   "source": [
    "Կարդացել եմ ֆայլը, վերաշել DataFrame-ի, կանչել եմ amazone.head() հրամանը, որ պատկերացում կազմեմ ինչ տեսք ունի իմ DataFrame-ը: \n",
    "Գտել եմ տողերը որոնցում առկա է 0 արժեք, փոխել եմ Nan-ով և հեռացրել այդ տեղերը, արդյունքում ստացել եմ նոր DataFrame, որը ունի 5837 տող և 5 սյունյակ:"
   ]
  },
  {
   "cell_type": "code",
   "execution_count": 8,
   "metadata": {},
   "outputs": [
    {
     "data": {
      "text/html": [
       "<div>\n",
       "<style scoped>\n",
       "    .dataframe tbody tr th:only-of-type {\n",
       "        vertical-align: middle;\n",
       "    }\n",
       "\n",
       "    .dataframe tbody tr th {\n",
       "        vertical-align: top;\n",
       "    }\n",
       "\n",
       "    .dataframe thead th {\n",
       "        text-align: right;\n",
       "    }\n",
       "</style>\n",
       "<table border=\"1\" class=\"dataframe\">\n",
       "  <thead>\n",
       "    <tr style=\"text-align: right;\">\n",
       "      <th></th>\n",
       "      <th>year</th>\n",
       "      <th>state</th>\n",
       "      <th>month</th>\n",
       "      <th>number</th>\n",
       "      <th>date</th>\n",
       "    </tr>\n",
       "  </thead>\n",
       "  <tbody>\n",
       "    <tr>\n",
       "      <th>0</th>\n",
       "      <td>1998</td>\n",
       "      <td>Acre</td>\n",
       "      <td>Janeiro</td>\n",
       "      <td>0.0</td>\n",
       "      <td>1/1/1998</td>\n",
       "    </tr>\n",
       "    <tr>\n",
       "      <th>1</th>\n",
       "      <td>1999</td>\n",
       "      <td>Acre</td>\n",
       "      <td>Janeiro</td>\n",
       "      <td>0.0</td>\n",
       "      <td>1/1/1999</td>\n",
       "    </tr>\n",
       "    <tr>\n",
       "      <th>2</th>\n",
       "      <td>2000</td>\n",
       "      <td>Acre</td>\n",
       "      <td>Janeiro</td>\n",
       "      <td>0.0</td>\n",
       "      <td>1/1/2000</td>\n",
       "    </tr>\n",
       "    <tr>\n",
       "      <th>3</th>\n",
       "      <td>2001</td>\n",
       "      <td>Acre</td>\n",
       "      <td>Janeiro</td>\n",
       "      <td>0.0</td>\n",
       "      <td>1/1/2001</td>\n",
       "    </tr>\n",
       "    <tr>\n",
       "      <th>4</th>\n",
       "      <td>2002</td>\n",
       "      <td>Acre</td>\n",
       "      <td>Janeiro</td>\n",
       "      <td>0.0</td>\n",
       "      <td>1/1/2002</td>\n",
       "    </tr>\n",
       "  </tbody>\n",
       "</table>\n",
       "</div>"
      ],
      "text/plain": [
       "   year state    month  number      date\n",
       "0  1998  Acre  Janeiro     0.0  1/1/1998\n",
       "1  1999  Acre  Janeiro     0.0  1/1/1999\n",
       "2  2000  Acre  Janeiro     0.0  1/1/2000\n",
       "3  2001  Acre  Janeiro     0.0  1/1/2001\n",
       "4  2002  Acre  Janeiro     0.0  1/1/2002"
      ]
     },
     "execution_count": 8,
     "metadata": {},
     "output_type": "execute_result"
    }
   ],
   "source": [
    "amazon = pd.read_csv('amazon.csv')\n",
    "amazon.head()"
   ]
  },
  {
   "cell_type": "code",
   "execution_count": 9,
   "metadata": {},
   "outputs": [
    {
     "data": {
      "text/html": [
       "<div>\n",
       "<style scoped>\n",
       "    .dataframe tbody tr th:only-of-type {\n",
       "        vertical-align: middle;\n",
       "    }\n",
       "\n",
       "    .dataframe tbody tr th {\n",
       "        vertical-align: top;\n",
       "    }\n",
       "\n",
       "    .dataframe thead th {\n",
       "        text-align: right;\n",
       "    }\n",
       "</style>\n",
       "<table border=\"1\" class=\"dataframe\">\n",
       "  <thead>\n",
       "    <tr style=\"text-align: right;\">\n",
       "      <th></th>\n",
       "      <th>year</th>\n",
       "      <th>state</th>\n",
       "      <th>month</th>\n",
       "      <th>number</th>\n",
       "      <th>date</th>\n",
       "    </tr>\n",
       "  </thead>\n",
       "  <tbody>\n",
       "    <tr>\n",
       "      <th>5</th>\n",
       "      <td>2003</td>\n",
       "      <td>Acre</td>\n",
       "      <td>Janeiro</td>\n",
       "      <td>10.0</td>\n",
       "      <td>1/1/2003</td>\n",
       "    </tr>\n",
       "    <tr>\n",
       "      <th>7</th>\n",
       "      <td>2005</td>\n",
       "      <td>Acre</td>\n",
       "      <td>Janeiro</td>\n",
       "      <td>12.0</td>\n",
       "      <td>1/1/2005</td>\n",
       "    </tr>\n",
       "    <tr>\n",
       "      <th>8</th>\n",
       "      <td>2006</td>\n",
       "      <td>Acre</td>\n",
       "      <td>Janeiro</td>\n",
       "      <td>4.0</td>\n",
       "      <td>1/1/2006</td>\n",
       "    </tr>\n",
       "    <tr>\n",
       "      <th>12</th>\n",
       "      <td>2010</td>\n",
       "      <td>Acre</td>\n",
       "      <td>Janeiro</td>\n",
       "      <td>1.0</td>\n",
       "      <td>1/1/2010</td>\n",
       "    </tr>\n",
       "    <tr>\n",
       "      <th>17</th>\n",
       "      <td>2015</td>\n",
       "      <td>Acre</td>\n",
       "      <td>Janeiro</td>\n",
       "      <td>1.0</td>\n",
       "      <td>1/1/2015</td>\n",
       "    </tr>\n",
       "  </tbody>\n",
       "</table>\n",
       "</div>"
      ],
      "text/plain": [
       "    year state    month  number      date\n",
       "5   2003  Acre  Janeiro    10.0  1/1/2003\n",
       "7   2005  Acre  Janeiro    12.0  1/1/2005\n",
       "8   2006  Acre  Janeiro     4.0  1/1/2006\n",
       "12  2010  Acre  Janeiro     1.0  1/1/2010\n",
       "17  2015  Acre  Janeiro     1.0  1/1/2015"
      ]
     },
     "execution_count": 9,
     "metadata": {},
     "output_type": "execute_result"
    }
   ],
   "source": [
    "amazon = amazon.replace(0, np.nan)\n",
    "amazon = amazon.dropna()\n",
    "amazon.head()"
   ]
  },
  {
   "cell_type": "markdown",
   "metadata": {},
   "source": [
    "Հաջորդ քայլով DataFrame-ին տալիս եմ նոր ինդեքսներ, որպիսի ավելի ընթեռնելի լինի"
   ]
  },
  {
   "cell_type": "code",
   "execution_count": 10,
   "metadata": {},
   "outputs": [
    {
     "data": {
      "text/html": [
       "<div>\n",
       "<style scoped>\n",
       "    .dataframe tbody tr th:only-of-type {\n",
       "        vertical-align: middle;\n",
       "    }\n",
       "\n",
       "    .dataframe tbody tr th {\n",
       "        vertical-align: top;\n",
       "    }\n",
       "\n",
       "    .dataframe thead th {\n",
       "        text-align: right;\n",
       "    }\n",
       "</style>\n",
       "<table border=\"1\" class=\"dataframe\">\n",
       "  <thead>\n",
       "    <tr style=\"text-align: right;\">\n",
       "      <th></th>\n",
       "      <th>year</th>\n",
       "      <th>state</th>\n",
       "      <th>month</th>\n",
       "      <th>number</th>\n",
       "      <th>date</th>\n",
       "    </tr>\n",
       "  </thead>\n",
       "  <tbody>\n",
       "    <tr>\n",
       "      <th>1</th>\n",
       "      <td>2003</td>\n",
       "      <td>Acre</td>\n",
       "      <td>Janeiro</td>\n",
       "      <td>10.0</td>\n",
       "      <td>1/1/2003</td>\n",
       "    </tr>\n",
       "    <tr>\n",
       "      <th>2</th>\n",
       "      <td>2005</td>\n",
       "      <td>Acre</td>\n",
       "      <td>Janeiro</td>\n",
       "      <td>12.0</td>\n",
       "      <td>1/1/2005</td>\n",
       "    </tr>\n",
       "    <tr>\n",
       "      <th>3</th>\n",
       "      <td>2006</td>\n",
       "      <td>Acre</td>\n",
       "      <td>Janeiro</td>\n",
       "      <td>4.0</td>\n",
       "      <td>1/1/2006</td>\n",
       "    </tr>\n",
       "    <tr>\n",
       "      <th>4</th>\n",
       "      <td>2010</td>\n",
       "      <td>Acre</td>\n",
       "      <td>Janeiro</td>\n",
       "      <td>1.0</td>\n",
       "      <td>1/1/2010</td>\n",
       "    </tr>\n",
       "    <tr>\n",
       "      <th>5</th>\n",
       "      <td>2015</td>\n",
       "      <td>Acre</td>\n",
       "      <td>Janeiro</td>\n",
       "      <td>1.0</td>\n",
       "      <td>1/1/2015</td>\n",
       "    </tr>\n",
       "    <tr>\n",
       "      <th>...</th>\n",
       "      <td>...</td>\n",
       "      <td>...</td>\n",
       "      <td>...</td>\n",
       "      <td>...</td>\n",
       "      <td>...</td>\n",
       "    </tr>\n",
       "    <tr>\n",
       "      <th>5833</th>\n",
       "      <td>2012</td>\n",
       "      <td>Tocantins</td>\n",
       "      <td>Dezembro</td>\n",
       "      <td>128.0</td>\n",
       "      <td>1/1/2012</td>\n",
       "    </tr>\n",
       "    <tr>\n",
       "      <th>5834</th>\n",
       "      <td>2013</td>\n",
       "      <td>Tocantins</td>\n",
       "      <td>Dezembro</td>\n",
       "      <td>85.0</td>\n",
       "      <td>1/1/2013</td>\n",
       "    </tr>\n",
       "    <tr>\n",
       "      <th>5835</th>\n",
       "      <td>2014</td>\n",
       "      <td>Tocantins</td>\n",
       "      <td>Dezembro</td>\n",
       "      <td>223.0</td>\n",
       "      <td>1/1/2014</td>\n",
       "    </tr>\n",
       "    <tr>\n",
       "      <th>5836</th>\n",
       "      <td>2015</td>\n",
       "      <td>Tocantins</td>\n",
       "      <td>Dezembro</td>\n",
       "      <td>373.0</td>\n",
       "      <td>1/1/2015</td>\n",
       "    </tr>\n",
       "    <tr>\n",
       "      <th>5837</th>\n",
       "      <td>2016</td>\n",
       "      <td>Tocantins</td>\n",
       "      <td>Dezembro</td>\n",
       "      <td>119.0</td>\n",
       "      <td>1/1/2016</td>\n",
       "    </tr>\n",
       "  </tbody>\n",
       "</table>\n",
       "<p>5837 rows × 5 columns</p>\n",
       "</div>"
      ],
      "text/plain": [
       "      year      state     month  number      date\n",
       "1     2003       Acre   Janeiro    10.0  1/1/2003\n",
       "2     2005       Acre   Janeiro    12.0  1/1/2005\n",
       "3     2006       Acre   Janeiro     4.0  1/1/2006\n",
       "4     2010       Acre   Janeiro     1.0  1/1/2010\n",
       "5     2015       Acre   Janeiro     1.0  1/1/2015\n",
       "...    ...        ...       ...     ...       ...\n",
       "5833  2012  Tocantins  Dezembro   128.0  1/1/2012\n",
       "5834  2013  Tocantins  Dezembro    85.0  1/1/2013\n",
       "5835  2014  Tocantins  Dezembro   223.0  1/1/2014\n",
       "5836  2015  Tocantins  Dezembro   373.0  1/1/2015\n",
       "5837  2016  Tocantins  Dezembro   119.0  1/1/2016\n",
       "\n",
       "[5837 rows x 5 columns]"
      ]
     },
     "execution_count": 10,
     "metadata": {},
     "output_type": "execute_result"
    }
   ],
   "source": [
    "amazon.set_index(np.arange(1,len(amazon) + 1), inplace = True)\n",
    "amazon\n"
   ]
  },
  {
   "cell_type": "markdown",
   "metadata": {},
   "source": [
    "unique() հրամանով գտնել եմ ամիսները, արդյունքը պահպանվում է ցուցակի մեջ, ստեղծել եմ դատարկ ցուցակ, որտեղ լրացրել եմ թարգմանված ամիսները, Janeiro-ն չէր թարգմանում դրամ համար այն վերջում ձեռքով ավելացրել եմ ցուցակում և ստեղծել եմ Dict, որի keys-ը ամիսների պորտուգալերեն անուններն են, իսկ values-ը անգլերեն:"
   ]
  },
  {
   "cell_type": "code",
   "execution_count": 11,
   "metadata": {},
   "outputs": [
    {
     "data": {
      "text/plain": [
       "{'Janeiro': 'Januray',\n",
       " 'Fevereiro': 'February',\n",
       " 'Marзo': 'March',\n",
       " 'Abril': 'April',\n",
       " 'Maio': 'May',\n",
       " 'Junho': 'June',\n",
       " 'Julho': 'July',\n",
       " 'Agosto': 'August',\n",
       " 'Setembro': 'September',\n",
       " 'Outubro': 'October',\n",
       " 'Novembro': 'November',\n",
       " 'Dezembro': 'December'}"
      ]
     },
     "execution_count": 11,
     "metadata": {},
     "output_type": "execute_result"
    }
   ],
   "source": [
    "unique_months = amazon.month.unique()\n",
    "eng_months = []\n",
    "translator = Translator()\n",
    "\n",
    "for month in unique_months:\n",
    "    translated = translator.translate(month)\n",
    "    eng_months.append(translated.text)\n",
    "\n",
    "eng_months[0] = 'Januray'\n",
    "\n",
    "months_dict = dict(zip(unique_months, eng_months))\n",
    "months_dict"
   ]
  },
  {
   "cell_type": "markdown",
   "metadata": {},
   "source": [
    "for ցիկլի իջոցով փոխել եմ պորտուգալերեն ամիսների անունները անգլերենով, inplace=True եմ արել, որ DataFrame-ը միանգամից պահպանվի նոր արժեքերով"
   ]
  },
  {
   "cell_type": "code",
   "execution_count": 12,
   "metadata": {},
   "outputs": [],
   "source": [
    "for i in months_dict.keys():\n",
    "    amazon.replace(i, months_dict[i], inplace=True)"
   ]
  },
  {
   "cell_type": "markdown",
   "metadata": {},
   "source": [
    "գտել եմ գոլոր 2.588 ֆորմատով թվերը և բազմապատկել հազարի ու փոխել նրանց"
   ]
  },
  {
   "cell_type": "code",
   "execution_count": 13,
   "metadata": {},
   "outputs": [
    {
     "data": {
      "text/html": [
       "<div>\n",
       "<style scoped>\n",
       "    .dataframe tbody tr th:only-of-type {\n",
       "        vertical-align: middle;\n",
       "    }\n",
       "\n",
       "    .dataframe tbody tr th {\n",
       "        vertical-align: top;\n",
       "    }\n",
       "\n",
       "    .dataframe thead th {\n",
       "        text-align: right;\n",
       "    }\n",
       "</style>\n",
       "<table border=\"1\" class=\"dataframe\">\n",
       "  <thead>\n",
       "    <tr style=\"text-align: right;\">\n",
       "      <th></th>\n",
       "      <th>year</th>\n",
       "      <th>state</th>\n",
       "      <th>month</th>\n",
       "      <th>number</th>\n",
       "      <th>date</th>\n",
       "    </tr>\n",
       "  </thead>\n",
       "  <tbody>\n",
       "    <tr>\n",
       "      <th>1</th>\n",
       "      <td>2003</td>\n",
       "      <td>Acre</td>\n",
       "      <td>Januray</td>\n",
       "      <td>10.0</td>\n",
       "      <td>1/1/2003</td>\n",
       "    </tr>\n",
       "    <tr>\n",
       "      <th>2</th>\n",
       "      <td>2005</td>\n",
       "      <td>Acre</td>\n",
       "      <td>Januray</td>\n",
       "      <td>12.0</td>\n",
       "      <td>1/1/2005</td>\n",
       "    </tr>\n",
       "    <tr>\n",
       "      <th>3</th>\n",
       "      <td>2006</td>\n",
       "      <td>Acre</td>\n",
       "      <td>Januray</td>\n",
       "      <td>4.0</td>\n",
       "      <td>1/1/2006</td>\n",
       "    </tr>\n",
       "    <tr>\n",
       "      <th>4</th>\n",
       "      <td>2010</td>\n",
       "      <td>Acre</td>\n",
       "      <td>Januray</td>\n",
       "      <td>1.0</td>\n",
       "      <td>1/1/2010</td>\n",
       "    </tr>\n",
       "    <tr>\n",
       "      <th>5</th>\n",
       "      <td>2015</td>\n",
       "      <td>Acre</td>\n",
       "      <td>Januray</td>\n",
       "      <td>1.0</td>\n",
       "      <td>1/1/2015</td>\n",
       "    </tr>\n",
       "    <tr>\n",
       "      <th>...</th>\n",
       "      <td>...</td>\n",
       "      <td>...</td>\n",
       "      <td>...</td>\n",
       "      <td>...</td>\n",
       "      <td>...</td>\n",
       "    </tr>\n",
       "    <tr>\n",
       "      <th>5833</th>\n",
       "      <td>2012</td>\n",
       "      <td>Tocantins</td>\n",
       "      <td>December</td>\n",
       "      <td>128.0</td>\n",
       "      <td>1/1/2012</td>\n",
       "    </tr>\n",
       "    <tr>\n",
       "      <th>5834</th>\n",
       "      <td>2013</td>\n",
       "      <td>Tocantins</td>\n",
       "      <td>December</td>\n",
       "      <td>85.0</td>\n",
       "      <td>1/1/2013</td>\n",
       "    </tr>\n",
       "    <tr>\n",
       "      <th>5835</th>\n",
       "      <td>2014</td>\n",
       "      <td>Tocantins</td>\n",
       "      <td>December</td>\n",
       "      <td>223.0</td>\n",
       "      <td>1/1/2014</td>\n",
       "    </tr>\n",
       "    <tr>\n",
       "      <th>5836</th>\n",
       "      <td>2015</td>\n",
       "      <td>Tocantins</td>\n",
       "      <td>December</td>\n",
       "      <td>373.0</td>\n",
       "      <td>1/1/2015</td>\n",
       "    </tr>\n",
       "    <tr>\n",
       "      <th>5837</th>\n",
       "      <td>2016</td>\n",
       "      <td>Tocantins</td>\n",
       "      <td>December</td>\n",
       "      <td>119.0</td>\n",
       "      <td>1/1/2016</td>\n",
       "    </tr>\n",
       "  </tbody>\n",
       "</table>\n",
       "<p>5837 rows × 5 columns</p>\n",
       "</div>"
      ],
      "text/plain": [
       "      year      state     month  number      date\n",
       "1     2003       Acre   Januray    10.0  1/1/2003\n",
       "2     2005       Acre   Januray    12.0  1/1/2005\n",
       "3     2006       Acre   Januray     4.0  1/1/2006\n",
       "4     2010       Acre   Januray     1.0  1/1/2010\n",
       "5     2015       Acre   Januray     1.0  1/1/2015\n",
       "...    ...        ...       ...     ...       ...\n",
       "5833  2012  Tocantins  December   128.0  1/1/2012\n",
       "5834  2013  Tocantins  December    85.0  1/1/2013\n",
       "5835  2014  Tocantins  December   223.0  1/1/2014\n",
       "5836  2015  Tocantins  December   373.0  1/1/2015\n",
       "5837  2016  Tocantins  December   119.0  1/1/2016\n",
       "\n",
       "[5837 rows x 5 columns]"
      ]
     },
     "execution_count": 13,
     "metadata": {},
     "output_type": "execute_result"
    }
   ],
   "source": [
    "for number in amazon['number']:\n",
    "    if number % 1 != 0:\n",
    "        amazon.replace(number, round(number * 1000, 0), inplace=True)\n",
    "amazon"
   ]
  },
  {
   "cell_type": "markdown",
   "metadata": {},
   "source": [
    "describe()-ի և describe(include = ['object']) ընդհանուր տեղեկատվություն ա տալիս DataFrame-ի վերաբրյալ"
   ]
  },
  {
   "cell_type": "code",
   "execution_count": 14,
   "metadata": {},
   "outputs": [
    {
     "data": {
      "text/html": [
       "<div>\n",
       "<style scoped>\n",
       "    .dataframe tbody tr th:only-of-type {\n",
       "        vertical-align: middle;\n",
       "    }\n",
       "\n",
       "    .dataframe tbody tr th {\n",
       "        vertical-align: top;\n",
       "    }\n",
       "\n",
       "    .dataframe thead th {\n",
       "        text-align: right;\n",
       "    }\n",
       "</style>\n",
       "<table border=\"1\" class=\"dataframe\">\n",
       "  <thead>\n",
       "    <tr style=\"text-align: right;\">\n",
       "      <th></th>\n",
       "      <th>number</th>\n",
       "    </tr>\n",
       "  </thead>\n",
       "  <tbody>\n",
       "    <tr>\n",
       "      <th>count</th>\n",
       "      <td>5837.000000</td>\n",
       "    </tr>\n",
       "    <tr>\n",
       "      <th>mean</th>\n",
       "      <td>625.157444</td>\n",
       "    </tr>\n",
       "    <tr>\n",
       "      <th>std</th>\n",
       "      <td>1720.009767</td>\n",
       "    </tr>\n",
       "    <tr>\n",
       "      <th>min</th>\n",
       "      <td>1.000000</td>\n",
       "    </tr>\n",
       "    <tr>\n",
       "      <th>25%</th>\n",
       "      <td>16.000000</td>\n",
       "    </tr>\n",
       "    <tr>\n",
       "      <th>50%</th>\n",
       "      <td>73.000000</td>\n",
       "    </tr>\n",
       "    <tr>\n",
       "      <th>75%</th>\n",
       "      <td>360.000000</td>\n",
       "    </tr>\n",
       "    <tr>\n",
       "      <th>max</th>\n",
       "      <td>25963.000000</td>\n",
       "    </tr>\n",
       "  </tbody>\n",
       "</table>\n",
       "</div>"
      ],
      "text/plain": [
       "             number\n",
       "count   5837.000000\n",
       "mean     625.157444\n",
       "std     1720.009767\n",
       "min        1.000000\n",
       "25%       16.000000\n",
       "50%       73.000000\n",
       "75%      360.000000\n",
       "max    25963.000000"
      ]
     },
     "execution_count": 14,
     "metadata": {},
     "output_type": "execute_result"
    }
   ],
   "source": [
    "amazon[['number']].describe()"
   ]
  },
  {
   "cell_type": "code",
   "execution_count": 15,
   "metadata": {},
   "outputs": [
    {
     "data": {
      "text/html": [
       "<div>\n",
       "<style scoped>\n",
       "    .dataframe tbody tr th:only-of-type {\n",
       "        vertical-align: middle;\n",
       "    }\n",
       "\n",
       "    .dataframe tbody tr th {\n",
       "        vertical-align: top;\n",
       "    }\n",
       "\n",
       "    .dataframe thead th {\n",
       "        text-align: right;\n",
       "    }\n",
       "</style>\n",
       "<table border=\"1\" class=\"dataframe\">\n",
       "  <thead>\n",
       "    <tr style=\"text-align: right;\">\n",
       "      <th></th>\n",
       "      <th>state</th>\n",
       "      <th>month</th>\n",
       "      <th>date</th>\n",
       "    </tr>\n",
       "  </thead>\n",
       "  <tbody>\n",
       "    <tr>\n",
       "      <th>count</th>\n",
       "      <td>5837</td>\n",
       "      <td>5837</td>\n",
       "      <td>5837</td>\n",
       "    </tr>\n",
       "    <tr>\n",
       "      <th>unique</th>\n",
       "      <td>23</td>\n",
       "      <td>12</td>\n",
       "      <td>20</td>\n",
       "    </tr>\n",
       "    <tr>\n",
       "      <th>top</th>\n",
       "      <td>Rio</td>\n",
       "      <td>October</td>\n",
       "      <td>1/1/2016</td>\n",
       "    </tr>\n",
       "    <tr>\n",
       "      <th>freq</th>\n",
       "      <td>661</td>\n",
       "      <td>534</td>\n",
       "      <td>317</td>\n",
       "    </tr>\n",
       "  </tbody>\n",
       "</table>\n",
       "</div>"
      ],
      "text/plain": [
       "       state    month      date\n",
       "count   5837     5837      5837\n",
       "unique    23       12        20\n",
       "top      Rio  October  1/1/2016\n",
       "freq     661      534       317"
      ]
     },
     "execution_count": 15,
     "metadata": {},
     "output_type": "execute_result"
    }
   ],
   "source": [
    "amazon.describe(include = ['object'])"
   ]
  },
  {
   "cell_type": "markdown",
   "metadata": {},
   "source": [
    "Վիզուալիզացրել եմ հրդեհների քանակը ըստ տարիների և հրդերներիի միջին քանակը ըստ տարինեի, և  հրդեհների քանակը ըստ ամիսների և հրդերներիի միջին քանակը ըստ ամիսների\n",
    "mamtplolib գրադարանի միջոցով\n"
   ]
  },
  {
   "cell_type": "code",
   "execution_count": 16,
   "metadata": {},
   "outputs": [
    {
     "data": {
      "image/png": "[encoded data removed]",
      "text/plain": [
       "<Figure size 2160x1080 with 4 Axes>"
      ]
     },
     "metadata": {
      "needs_background": "light"
     },
     "output_type": "display_data"
    }
   ],
   "source": [
    "new_index = ['Januray', 'February', 'March', 'April', 'May', 'June', 'July', 'August', 'September', 'October', 'November', 'December']\n",
    "years = np.arange(1998, 2018)\n",
    "\n",
    "fire_per_year = amazon.groupby('year')['number'].sum()\n",
    "mean_fire_per_year = amazon.groupby('year')['number'].mean()\n",
    "\n",
    "fire_per_month = amazon.groupby('month')['number'].sum().reindex(new_index)\n",
    "mean_fire_per_month = amazon.groupby('month')['number'].mean().reindex(new_index)\n",
    "\n",
    "fig = plt.figure(figsize = (30,15))\n",
    "ax1 = fig.add_subplot(221)\n",
    "ax2 = fig.add_subplot(222)\n",
    "ax3 = fig.add_subplot(223)\n",
    "ax4 = fig.add_subplot(224)\n",
    "\n",
    "ax1.bar(fire_per_year.index, fire_per_year.values, color = 'b')\n",
    "ax1.set_xticks(years)\n",
    "ax1.set_xticklabels(years, rotation = 90)\n",
    "ax1.grid()\n",
    "ax1.set_xlabel('Year')\n",
    "ax1.set_ylabel('Number of fires')\n",
    "ax1.set_title('Number of fire per year')\n",
    "\n",
    "ax2.bar(mean_fire_per_year.index, mean_fire_per_year.values, color = 'y')\n",
    "ax2.set_xticks(years)\n",
    "ax2.set_xticklabels(years, rotation = 90)\n",
    "ax2.grid()\n",
    "ax2.set_xlabel('Year')\n",
    "ax2.set_ylabel('Mean number of fires')\n",
    "ax2.set_title('Mean number of fire per year')\n",
    "\n",
    "ax3.bar(fire_per_month.index, fire_per_month.values, color = 'r')\n",
    "ax3.grid()\n",
    "ax3.set_xlabel('Month')\n",
    "ax3.set_ylabel('Number of fires (m)')\n",
    "ax3.set_title('Number of fire per month')\n",
    "\n",
    "ax4.bar(mean_fire_per_month.index, mean_fire_per_month.values, color = 'c')\n",
    "ax4.grid()\n",
    "ax4.set_xlabel('Month')\n",
    "ax4.set_ylabel('Mean number of fires')\n",
    "ax4.set_title('Mean number of fire per month')\n",
    "\n",
    "plt.show()"
   ]
  },
  {
   "cell_type": "markdown",
   "metadata": {},
   "source": [
    "Վիզուալիզացրել եմ հրդեհների քանակը ըստ նահանգների \n",
    "Pandas գրադարանի միջոցով"
   ]
  },
  {
   "cell_type": "code",
   "execution_count": 17,
   "metadata": {},
   "outputs": [
    {
     "data": {
      "text/plain": [
       "[Text(0, 0.5, 'Number of fire'), Text(0.5, 0, 'State')]"
      ]
     },
     "execution_count": 17,
     "metadata": {},
     "output_type": "execute_result"
    },
    {
     "data": {
      "image/png": "[encoded data removed]",
      "text/plain": [
       "<Figure size 1080x504 with 1 Axes>"
      ]
     },
     "metadata": {
      "needs_background": "light"
     },
     "output_type": "display_data"
    }
   ],
   "source": [
    "fire_per_state = amazon.groupby('state')['number'].sum()\n",
    "fire_per_state.plot.bar(figsize=(15,7),title='Number of fire per state', color = 'y', grid = 'True').set(ylabel='Number of fire', xlabel='State')\n"
   ]
  },
  {
   "cell_type": "markdown",
   "metadata": {},
   "source": [
    "Վիզուալիզացրել եմ հրդերներիի միջին քանակը ըստ նահանգների\n",
    "Pandas գրադարանի միջոցով"
   ]
  },
  {
   "cell_type": "code",
   "execution_count": 18,
   "metadata": {},
   "outputs": [
    {
     "data": {
      "text/plain": [
       "[Text(0, 0.5, 'Number of fire'), Text(0.5, 0, 'State')]"
      ]
     },
     "execution_count": 18,
     "metadata": {},
     "output_type": "execute_result"
    },
    {
     "data": {
      "image/png": "[encoded data removed]",
      "text/plain": [
       "<Figure size 1080x504 with 1 Axes>"
      ]
     },
     "metadata": {
      "needs_background": "light"
     },
     "output_type": "display_data"
    }
   ],
   "source": [
    "mean_fire_per_state = amazon.groupby('state')['number'].mean()\n",
    "mean_fire_per_state.plot.bar(figsize=(15,7),title='Number of fire per state', color = 'b', grid = 'True').set(ylabel='Number of fire', xlabel='State')\n"
   ]
  }
 ],
 "metadata": {
  "kernelspec": {
   "display_name": "Python 3",
   "language": "python",
   "name": "python3"
  },
  "language_info": {
   "codemirror_mode": {
    "name": "ipython",
    "version": 3
   },
   "file_extension": ".py",
   "mimetype": "text/x-python",
   "name": "python",
   "nbconvert_exporter": "python",
   "pygments_lexer": "ipython3",
   "version": "3.8.3"
  }
 },
 "nbformat": 4,
 "nbformat_minor": 2
}
